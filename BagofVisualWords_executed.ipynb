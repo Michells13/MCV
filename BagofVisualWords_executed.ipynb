{
  "cells": [
    {
      "cell_type": "markdown",
      "metadata": {
        "id": "view-in-github",
        "colab_type": "text"
      },
      "source": [
        "<a href=\"https://colab.research.google.com/github/Michells13/MCV/blob/main/BagofVisualWords_executed.ipynb\" target=\"_parent\"><img src=\"https://colab.research.google.com/assets/colab-badge.svg\" alt=\"Open In Colab\"/></a>"
      ]
    },
    {
      "cell_type": "markdown",
      "metadata": {
        "id": "f-AYjIALZnii"
      },
      "source": [
        "# Bag Of Visual Words - Week 1\n",
        "\n",
        "\n",
        "---\n",
        "\n",
        "\n",
        "## Team 5 \n",
        "*   Iñigo Auzmendi\n",
        "*   Pierre Lammers\n",
        "*   Michell Vargas\n",
        "\n",
        "\n",
        "---\n",
        "\n",
        "\n",
        "# Content\n",
        "\n",
        "\n",
        "1.   Data management \n",
        " *   Download files\n",
        " *   Import libraries\n",
        " *   Read dataset\n",
        "2.   Local Features\n",
        "  *   Best step size assessment \n",
        "3.   Best Visual Words Number (cluster number)\n",
        "  *   Clustering with K-Means to find the best number of visual words\n",
        "\n",
        "4.   Classifiers \n",
        "  *   Best Parameters for KNN \n",
        "      *   Parameter options\n",
        "      *   Grid search\n",
        "      *   Results\n",
        "  *   Best Parameters for Logistic Regression\n",
        "      *   Parameter options\n",
        "      *   Grid search\n",
        "      *   Results\n",
        "5.   Dimension reduction\n",
        "    *   LDA\n",
        "    *   PCA \n",
        "6.  Final test \n",
        "\n",
        "\n",
        "\n",
        "\n",
        "\n",
        "\n",
        "\n",
        "\n",
        "\n",
        "\n",
        "\n",
        "\n",
        "\n",
        "\n",
        "\n",
        "\n",
        "\n",
        "\n",
        "\n"
      ]
    },
    {
      "cell_type": "markdown",
      "metadata": {
        "id": "3-hBz2dJ_13L"
      },
      "source": [
        "# 1.- Data Management - Download files from Google Drive (Only for Google Colab)"
      ]
    },
    {
      "cell_type": "code",
      "execution_count": null,
      "metadata": {
        "id": "U0qlmqVZYrSm"
      },
      "outputs": [],
      "source": [
        "# Download files from Google Drive\n",
        "!gdown \"1ykWGN5eRrNrutVyGTpl9zeOyjQXdp41X&confirm=t\"\n",
        "!unzip MIT_split.zip -d /content/MIT_split/\n",
        "%cd ./MIT_split/"
      ]
    },
    {
      "cell_type": "markdown",
      "metadata": {
        "id": "5GUxLV9XNflJ"
      },
      "source": [
        "### Import libraries"
      ]
    },
    {
      "cell_type": "code",
      "execution_count": null,
      "metadata": {
        "id": "Ef3VjyFUCKQr"
      },
      "outputs": [],
      "source": [
        "import cv2\n",
        "import numpy as np\n",
        "import pickle\n",
        "from sklearn.cluster import MiniBatchKMeans\n",
        "from sklearn.neighbors import KNeighborsClassifier\n",
        "from sklearn.decomposition import PCA\n",
        "from sklearn.discriminant_analysis import LinearDiscriminantAnalysis\n",
        "from sklearn.model_selection import StratifiedKFold\n",
        "from sklearn.model_selection import cross_val_score\n",
        "from sklearn.linear_model import LogisticRegression\n",
        "from sklearn.pipeline import Pipeline\n",
        "import pandas as pd\n",
        "import matplotlib.pyplot as plt\n",
        "import seaborn as sns"
      ]
    },
    {
      "cell_type": "markdown",
      "metadata": {
        "id": "6CG59Jr0JHXm"
      },
      "source": [
        "### Read dataset"
      ]
    },
    {
      "cell_type": "markdown",
      "metadata": {
        "id": "lakkSmE1CKQx"
      },
      "source": [
        "The dataset is partitioned in train and test images. Each of the image has its own label. There are 8 different classes."
      ]
    },
    {
      "cell_type": "code",
      "execution_count": null,
      "metadata": {
        "id": "nJnGEkrACKQz"
      },
      "outputs": [],
      "source": [
        "train_images_filenames = pickle.load(open('train_images_filenames.dat','rb'))\n",
        "test_images_filenames = pickle.load(open('test_images_filenames.dat','rb'))\n",
        "train_images_filenames = ['..' + n[15:] for n in train_images_filenames]\n",
        "test_images_filenames  = ['..' + n[15:] for n in test_images_filenames]\n",
        "train_labels = pickle.load(open('train_labels.dat','rb')) \n",
        "test_labels = pickle.load(open('test_labels.dat','rb'))"
      ]
    },
    {
      "cell_type": "markdown",
      "metadata": {
        "id": "eZBYtRc-Nv8J"
      },
      "source": [
        "As the assesments will be done using the cross-validation technique, train and test images has to be joined together."
      ]
    },
    {
      "cell_type": "code",
      "execution_count": null,
      "metadata": {
        "id": "qnCOE3kANwP9"
      },
      "outputs": [],
      "source": [
        "images_filenames = train_images_filenames + test_images_filenames\n",
        "\n",
        "labels = train_labels + test_labels"
      ]
    },
    {
      "cell_type": "markdown",
      "metadata": {
        "id": "VYjDNq_bN20K"
      },
      "source": [
        "# 2.- Local features\n"
      ]
    },
    {
      "cell_type": "markdown",
      "metadata": {
        "id": "ie4bqd5pOUBK"
      },
      "source": [
        "First, the local features have to be obtained. There are many keypoints detectors and descriptor types. In this study the following local features will be tested:\n",
        "\n",
        "\n",
        "*   KAZE\n",
        "*   AKAZE\n",
        "*   SIFT\n",
        "*   DENSE SIFT\n",
        "*   ORB\n",
        "*   BEBLID\n",
        "*   BRISK\n",
        "*   BRIEF\n",
        "\n",
        "\n"
      ]
    },
    {
      "cell_type": "code",
      "execution_count": null,
      "metadata": {
        "id": "PpjX9AE9Hdog"
      },
      "outputs": [],
      "source": [
        "# Dense detector class\n",
        "class denseDetector:\n",
        "  def __init__(self, stepSize):\n",
        "    self.step_size = stepSize\n",
        "  \n",
        "  def detect(self, gray, a):\n",
        "    kpt = [cv2.KeyPoint(x, y, self.step_size) for y in range(0, gray.shape[0], self.step_size) for x in range(0, gray.shape[1], self.step_size)]\n",
        "\n",
        "    return kpt"
      ]
    },
    {
      "cell_type": "code",
      "execution_count": null,
      "metadata": {
        "id": "Nq-SNYxROD9B"
      },
      "outputs": [],
      "source": [
        "# Local feature types\n",
        "KAZE_DETECTOR = 0\n",
        "AKAZE_DETECTOR = 1\n",
        "SIFT_DETECTOR = 2\n",
        "DENSE_SIFT_DETECTOR = 3\n",
        "ORB_DETECTOR = 4\n",
        "BEBLID_DETECTOR = 5\n",
        "BRISK_DETECTOR = 6\n",
        "BRIEF_DETECTOR = 7\n",
        "\n",
        "\n",
        "detectors = [\n",
        "    [cv2.KAZE_create(threshold = 0.0001)],\n",
        "    [cv2.AKAZE_create(threshold = 0.0001)],\n",
        "    [cv2.SIFT_create()],\n",
        "    [denseDetector(5), cv2.SIFT_create()],\n",
        "    [cv2.ORB_create()],\n",
        "    [cv2.ORB_create(), cv2.xfeatures2d.BEBLID_create(0.75)],\n",
        "    [cv2.BRISK_create(thresh = 20)],\n",
        "    [cv2.FastFeatureDetector_create(), cv2.xfeatures2d.BriefDescriptorExtractor_create()]\n",
        "    ]\n",
        "\n",
        "detectorsString = [\n",
        "    \"KAZE\",\n",
        "    \"AKAZE\",\n",
        "    \"SIFT\",\n",
        "    \"D_SIFT\",\n",
        "    \"ORB\",\n",
        "    \"BEBLID\",\n",
        "    \"BRISK\",\n",
        "    \"BRIEF\"\n",
        "]"
      ]
    },
    {
      "cell_type": "markdown",
      "metadata": {
        "id": "K7PRfhN7K6yJ"
      },
      "source": [
        "In order to test the different types of local features a simple method is going to be used:\n",
        "\n",
        "\n",
        "1.   For each image, keypoints will be detected and descriptors will be generated for each keypoint.\n",
        "2.   As the evaluation will be done using cross validation, the images will be divided into **5** (number of folds) groups.\n",
        "3.   In each train-test partition of the 5 different folds, training set will be used to generate the visual bag. In order to do so, a clustering algorithm (with 128 clusters) will be computed using **all the local descriptors of the training images**.\n",
        "4.   After computing the clusters, for each of the images (training and test images) using all the local features of each image, a global descriptor (histogram) will be generated.\n",
        "5.  With the global descriptors of the training images a classifier will be trained. In this case, to keep it simple, a 3NN with *Euclidean* distance will be applied.\n",
        "6.  Using the trained classifier, the global descriptors of the test images will be classfied.\n",
        "7.  Using the labels provided, the evaluation of the classification accuracy will be obtained.\n",
        "\n",
        "Steps 3-7 are done using every training-testing partition of different folds.\n",
        "\n",
        "The optimum number of clusters and different classifiers will be discussed after trying different local features.\n"
      ]
    },
    {
      "cell_type": "markdown",
      "metadata": {
        "id": "eNapTkzYOSiD"
      },
      "source": [
        "In order to apply the clustering method only using the training images local descriptors, a class with fit() and transform() methods needs to be implemented."
      ]
    },
    {
      "cell_type": "code",
      "execution_count": null,
      "metadata": {
        "id": "JTl1wdyjHNyh"
      },
      "outputs": [],
      "source": [
        "class vwDictionary:\n",
        "    def __init__(self, numClusters, randomState):\n",
        "        \n",
        "        self.num_clusters = numClusters\n",
        "        self.codebook = MiniBatchKMeans(n_clusters = self.num_clusters, verbose = False, batch_size = 4096, n_init = 3,\n",
        "                                        compute_labels = False, reassignment_ratio = 10**-4, random_state = randomState)\n",
        "        \n",
        "        \n",
        "    def fit(self, X, y):\n",
        "\n",
        "        D=np.vstack(X)\n",
        "        \n",
        "        # Create clusters\n",
        "        self.codebook.fit(D)\n",
        "        return self\n",
        "        \n",
        "        \n",
        "    def transform(self, X):\n",
        "\n",
        "        # Create visual words\n",
        "        visual_words=np.zeros((len(X),self.num_clusters),dtype=np.float32)\n",
        "        for i in range(len(X)):\n",
        "            words=self.codebook.predict(X[i])\n",
        "            visual_words[i,:]=np.bincount(words,minlength=self.num_clusters)\n",
        "        \n",
        "        return visual_words"
      ]
    },
    {
      "cell_type": "markdown",
      "metadata": {
        "id": "R4sbhWjIOn8L"
      },
      "source": [
        "Initial values"
      ]
    },
    {
      "cell_type": "code",
      "execution_count": null,
      "metadata": {
        "id": "SEqIr0ujg_k7"
      },
      "outputs": [],
      "source": [
        "numVisualWords = 128\n",
        "numSplits = 5\n",
        "randomState = 42"
      ]
    },
    {
      "cell_type": "markdown",
      "metadata": {
        "id": "6ktOdGMTOin-"
      },
      "source": [
        "Compute 3-NN classifier with 128 visual words with different local descriptors types and evaluate using cross-validation."
      ]
    },
    {
      "cell_type": "code",
      "execution_count": null,
      "metadata": {
        "colab": {
          "base_uri": "https://localhost:8080/"
        },
        "id": "S-sVdfkIObJF",
        "outputId": "0a15fdc8-6562-49d7-e78e-799d9c72afa6"
      },
      "outputs": [
        {
          "name": "stdout",
          "output_type": "stream",
          "text": [
            "KAZE\n",
            "Mean:  55.17109371214166\n",
            "Std:  0.9279060062522375\n",
            "--------------------\n",
            "AKAZE\n",
            "Mean:  44.19589762760205\n",
            "Std:  1.2516214968734347\n",
            "--------------------\n",
            "SIFT\n",
            "Mean:  55.8789364014593\n",
            "Std:  2.1100747637581474\n",
            "--------------------\n",
            "D_SIFT\n",
            "Mean:  71.6900306674143\n",
            "Std:  1.9380566150994507\n",
            "--------------------\n",
            "ORB\n",
            "Mean:  29.42694163499547\n",
            "Std:  1.0027843786534438\n",
            "--------------------\n",
            "BEBLID\n",
            "Mean:  33.74273985310101\n",
            "Std:  0.7477816707295885\n",
            "--------------------\n",
            "BRISK\n",
            "Mean:  45.42377105356067\n",
            "Std:  2.624004799892132\n",
            "--------------------\n",
            "BRIEF\n",
            "Mean:  60.49178625573717\n",
            "Std:  1.8308675741355556\n",
            "--------------------\n"
          ]
        }
      ],
      "source": [
        "accScores = []\n",
        "\n",
        "# Create model\n",
        "visualBag = vwDictionary(numVisualWords, randomState)\n",
        "knn = KNeighborsClassifier(n_neighbors=3,n_jobs=-1,metric='euclidean')\n",
        "model = Pipeline(steps = [(\"vw\", visualBag), (\"KNN\", knn)])\n",
        "\n",
        "# Partition for cross validation\n",
        "stf = StratifiedKFold(n_splits=numSplits, random_state = randomState, shuffle=True)\n",
        "\n",
        "# For each local feature type\n",
        "for detectorType in range(KAZE_DETECTOR, BRIEF_DETECTOR+1):\n",
        "  \n",
        "  # Get local descriptors\n",
        "  detector = detectors[detectorType]\n",
        "\n",
        "  descriptors = []\n",
        "  label_per_descriptor = []\n",
        "\n",
        "  for filename,label in zip(images_filenames, labels):\n",
        "\n",
        "      ima=cv2.imread(filename)\n",
        "      gray=cv2.cvtColor(ima,cv2.COLOR_BGR2GRAY)\n",
        "\n",
        "      if len(detector) == 1:\n",
        "        kpt,des= detector[0].detectAndCompute(gray,None)\n",
        "    \n",
        "      else:\n",
        "        kpt = detector[0].detect(gray,None)\n",
        "        kpt, des  = detector[1].compute(gray,kpt)\n",
        "\n",
        "      descriptors.append(des)\n",
        "      label_per_descriptor.append(label)\n",
        "\n",
        "  # Apply model\n",
        "  scores = cross_val_score(estimator = model, X = descriptors, y = label_per_descriptor, cv = stf, n_jobs = 2)\n",
        "\n",
        "  # Print values\n",
        "  print(detectorsString[detectorType])\n",
        "  print(\"Mean: \", 100*scores.mean())\n",
        "  print(\"Std: \", 100*scores.std())\n",
        "  print(\"--------------------\")\n",
        "\n",
        "  # Store values\n",
        "  accScores.append([score*100 for score in scores])"
      ]
    },
    {
      "cell_type": "markdown",
      "metadata": {
        "id": "YYVr5phaO5rD"
      },
      "source": [
        "Plot boxplot with different local descriptors:"
      ]
    },
    {
      "cell_type": "code",
      "execution_count": null,
      "metadata": {
        "colab": {
          "base_uri": "https://localhost:8080/",
          "height": 282
        },
        "id": "6AnQbaHCPCYi",
        "outputId": "a5083e99-1e91-4090-e5ac-21cb7497162e"
      },
      "outputs": [
        {
          "data": {
            "image/png": "[encoded data removed]",
            "text/plain": [
              "<Figure size 640x480 with 1 Axes>"
            ]
          },
          "metadata": {},
          "output_type": "display_data"
        }
      ],
      "source": [
        "from matplotlib import pyplot as plt\n",
        "\n",
        "plt.title(\"LOCAL FEATURE TYPES\")\n",
        "plt.ylabel(\"Accuracy (%)\")\n",
        "plt.boxplot(accScores, labels = detectorsString)\n",
        "plt.show()"
      ]
    },
    {
      "cell_type": "markdown",
      "metadata": {
        "id": "m_6XJUQ2QT79"
      },
      "source": [
        "The graph shows that the **Dense SIFT** is the best local descriptor type. The performance difference between SIFT and Dense SIFT shows that the SIFT keypoint detector is not detecting important keypoints, and the lost information is negatively affecting the classification task. The low performance of AKAZE, ORB, BEBLID and BRISK is expected due to the fact that the descriptors they use are binary, so the clustering method does not have much information. However, it is impressive that BRIEF, despite having binary descriptors, outperforms SIFT and KAZE local features in this task."
      ]
    },
    {
      "cell_type": "markdown",
      "metadata": {
        "id": "w2TxbEfPXbbY"
      },
      "source": [
        "### Best step size\n",
        "\n",
        "As Dense SIFT is the best local feature type, the best step size for the dense detector need to found. The smaller is the step size the more keypoints will be obtained."
      ]
    },
    {
      "cell_type": "markdown",
      "metadata": {
        "id": "HB0PyeD9TW4_"
      },
      "source": [
        "In order to get the best step size, the same process will be computed, changing the step size of the dense detector in each iteration."
      ]
    },
    {
      "cell_type": "code",
      "execution_count": null,
      "metadata": {
        "id": "D9kH0Bs9XfFA"
      },
      "outputs": [],
      "source": [
        "step_range = range(4,65,2) # Below 4 not enough RAM"
      ]
    },
    {
      "cell_type": "code",
      "execution_count": null,
      "metadata": {
        "colab": {
          "base_uri": "https://localhost:8080/",
          "height": 651
        },
        "id": "cWa7DTslXmL5",
        "outputId": "f05aa9fa-9e94-405c-bedc-41dbbf94c09b"
      },
      "outputs": [
        {
          "name": "stdout",
          "output_type": "stream",
          "text": [
            "Step size:  4\n",
            "Mean:  71.65167909285373\n",
            "Std:  0.8560213656520343\n",
            "--------------------\n",
            "Step size:  6\n",
            "Mean:  72.24744380525154\n",
            "Std:  0.8453004716574484\n",
            "--------------------\n",
            "Step size:  8\n",
            "Mean:  74.18156770714349\n",
            "Std:  1.9863092426608713\n",
            "--------------------\n",
            "Step size:  10\n",
            "Mean:  75.18597744595128\n",
            "Std:  1.4528253409384235\n",
            "--------------------\n",
            "Step size:  12\n",
            "Mean:  74.81423023405537\n",
            "Std:  0.908317564094759\n",
            "--------------------\n",
            "Step size:  14\n",
            "Mean:  74.73884239164296\n",
            "Std:  1.182458986420428\n",
            "--------------------\n",
            "Step size:  16\n",
            "Mean:  74.66490830927707\n",
            "Std:  1.363141625034529\n",
            "--------------------\n",
            "Step size:  18\n",
            "Mean:  74.88857967643455\n",
            "Std:  0.6884072252352346\n",
            "--------------------\n",
            "Step size:  20\n",
            "Mean:  73.88520833765999\n",
            "Std:  1.4109421150495998\n",
            "--------------------\n",
            "Step size:  22\n",
            "Mean:  73.69926550504317\n",
            "Std:  2.445663499945509\n",
            "--------------------\n",
            "Step size:  24\n",
            "Mean:  72.17337126954789\n",
            "Std:  1.4992225411019404\n",
            "--------------------\n",
            "Step size:  26\n",
            "Mean:  71.57906031719659\n",
            "Std:  2.228048399370373\n",
            "--------------------\n",
            "Step size:  28\n",
            "Mean:  72.6178064837698\n",
            "Std:  2.0057141753783014\n",
            "--------------------\n",
            "Step size:  30\n",
            "Mean:  72.24668231189384\n",
            "Std:  0.5607583238709756\n",
            "--------------------\n",
            "Step size:  32\n",
            "Mean:  71.35421209666812\n",
            "Std:  1.1809671143954665\n",
            "--------------------\n",
            "Step size:  34\n",
            "Mean:  70.90866925574409\n",
            "Std:  1.6865524228925426\n",
            "--------------------\n",
            "Step size:  36\n",
            "Mean:  70.27538368881227\n",
            "Std:  1.5385162250904407\n",
            "--------------------\n",
            "Step size:  38\n",
            "Mean:  68.75170470672123\n",
            "Std:  1.9022211399334077\n",
            "--------------------\n",
            "Step size:  40\n",
            "Mean:  70.31338913002845\n",
            "Std:  1.4957354860923886\n",
            "--------------------\n",
            "Step size:  42\n",
            "Mean:  68.97364540715667\n",
            "Std:  0.7837349579214737\n",
            "--------------------\n",
            "Step size:  44\n",
            "Mean:  69.08516957072543\n",
            "Std:  0.46757279818897357\n",
            "--------------------\n",
            "Step size:  46\n",
            "Mean:  67.894124732612\n",
            "Std:  0.9601192032722762\n",
            "--------------------\n",
            "Step size:  48\n",
            "Mean:  68.30443119907514\n",
            "Std:  1.6869686222635076\n",
            "--------------------\n",
            "Step size:  50\n",
            "Mean:  67.67204557883879\n",
            "Std:  1.159252517171127\n",
            "--------------------\n",
            "Step size:  52\n",
            "Mean:  67.00103147736634\n",
            "Std:  0.6523865961443747\n",
            "--------------------\n",
            "Step size:  54\n",
            "Mean:  65.99759091192293\n",
            "Std:  1.9863384600196925\n",
            "--------------------\n",
            "Step size:  56\n",
            "Mean:  64.8811031961953\n",
            "Std:  0.6064266309360119\n",
            "--------------------\n",
            "Step size:  58\n",
            "Mean:  65.25451184814438\n",
            "Std:  2.218651454299858\n",
            "--------------------\n",
            "Step size:  60\n",
            "Mean:  64.54722297217779\n",
            "Std:  2.175026874053179\n",
            "--------------------\n",
            "Step size:  62\n",
            "Mean:  63.28259018504288\n",
            "Std:  2.903844845436743\n",
            "--------------------\n",
            "Step size:  64\n",
            "Mean:  64.91834714405378\n",
            "Std:  1.6109870478881367\n",
            "--------------------\n"
          ]
        }
      ],
      "source": [
        "accScores = []\n",
        "\n",
        "# Create model\n",
        "visualBag = vwDictionary(numVisualWords, randomState)\n",
        "knn = KNeighborsClassifier(n_neighbors=3,n_jobs=-1,metric='euclidean')\n",
        "model = Pipeline(steps = [(\"vw\", visualBag), (\"knn\", knn)])\n",
        "\n",
        "# Partition for cross validation\n",
        "stf = StratifiedKFold(n_splits=numSplits, random_state = randomState, shuffle=True)\n",
        "\n",
        "detector = [None, cv2.SIFT_create()]\n",
        "\n",
        "for step_size in step_range:\n",
        "\n",
        "  detector[0] = denseDetector(step_size)\n",
        "\n",
        "  descriptors = []\n",
        "  label_per_descriptor = []\n",
        "\n",
        "  for filename,label in zip(images_filenames, labels):\n",
        "\n",
        "      ima=cv2.imread(filename)\n",
        "      gray=cv2.cvtColor(ima,cv2.COLOR_BGR2GRAY)\n",
        "\n",
        "      if len(detector) == 1:\n",
        "        kpt,des= detector[0].detectAndCompute(gray,None)\n",
        "    \n",
        "      else:\n",
        "        kpt = detector[0].detect(gray,None)\n",
        "        kpt, des  = detector[1].compute(gray,kpt)\n",
        "\n",
        "      descriptors.append(des)\n",
        "      label_per_descriptor.append(label)\n",
        "\n",
        "  scores = cross_val_score(estimator = model, X = descriptors, y = label_per_descriptor, cv = stf, n_jobs = 2)\n",
        "\n",
        "  # Print values\n",
        "  print(\"Step size: \", step_size)\n",
        "  print(\"Mean: \", 100*scores.mean())\n",
        "  print(\"Std: \", 100*scores.std())\n",
        "  print(\"--------------------\")\n",
        "\n",
        "  # Store values\n",
        "  accScores.append([score*100 for score in scores])"
      ]
    },
    {
      "cell_type": "code",
      "execution_count": null,
      "metadata": {
        "id": "PLDCvLZBJ874",
        "outputId": "11fc9514-75e3-4d24-96c2-d51aa783afde"
      },
      "outputs": [
        {
          "data": {
            "image/png": "[encoded data removed]",
            "text/plain": [
              "<Figure size 640x480 with 1 Axes>"
            ]
          },
          "metadata": {},
          "output_type": "display_data"
        }
      ],
      "source": [
        "import pandas as pd\n",
        "import matplotlib.pyplot as plt\n",
        "import seaborn as sns\n",
        "\n",
        "# Create the pandas DataFrame\n",
        "listData = []\n",
        "for i, step in enumerate(step_range):\n",
        "  for j in range(len(accScores[0])):\n",
        "\n",
        "    listData.append([accScores[i][j], step])\n",
        "\n",
        "\n",
        "df = pd.DataFrame(listData, columns = [\"Accuracy\", \"Step size\"])\n",
        "\n",
        "sns.lineplot(data = df, x = \"Step size\", y = \"Accuracy\")\n",
        "plt.title(\"Dense SIFT: step size\")\n",
        "plt.show()"
      ]
    },
    {
      "cell_type": "markdown",
      "metadata": {
        "id": "ir6vKukxTl-X"
      },
      "source": [
        "The graph shows that with low step sizes such as 4 or 8 the results obtained are not optimal. This can be caused by the too redundant information generated by too many closely spaced keypoints. It can also be seen that the accuracy drops when the step size is too large. The bigger the step size, the fewer keypoints are considered, so very large step sizes result in too few keypoints. The testing showed that the best step size is 10."
      ]
    },
    {
      "cell_type": "markdown",
      "metadata": {
        "id": "Dhy1zFCqMG7_"
      },
      "source": [
        "# 3.- Best visual words number (cluster number)"
      ]
    },
    {
      "cell_type": "markdown",
      "metadata": {
        "id": "QaeQ4SQ7MYNg"
      },
      "source": [
        "After obtaining the local features, a global descriptor must be created for each image. To do this, a bag of visual words is created using the local features of the training set. The K-Means algorithm is used to group all the local features into a fixed number of clusters. The number of clusters is a parameter that must be set, so different values must be tested.\n",
        "\n",
        "\n",
        "\n"
      ]
    },
    {
      "cell_type": "markdown",
      "source": [
        "Since the best local feature type and the best step size are known, all the local features can be computed at once."
      ],
      "metadata": {
        "id": "y4GlxzQfGEIK"
      }
    },
    {
      "cell_type": "code",
      "execution_count": null,
      "metadata": {
        "id": "EymDGRCVMXBz"
      },
      "outputs": [],
      "source": [
        "bestStepSize = 10\n",
        "detector = [denseDetector(bestStepSize), cv2.SIFT_create()]\n",
        "\n",
        "descriptors = []\n",
        "label_per_descriptor = []\n",
        "\n",
        "for filename,label in zip(images_filenames, labels):\n",
        "\n",
        "    ima=cv2.imread(filename)\n",
        "    gray=cv2.cvtColor(ima,cv2.COLOR_BGR2GRAY)\n",
        "\n",
        "    if len(detector) == 1:\n",
        "      kpt,des= detector[0].detectAndCompute(gray,None)\n",
        "  \n",
        "    else:\n",
        "      kpt = detector[0].detect(gray,None)\n",
        "      kpt, des  = detector[1].compute(gray,kpt)\n",
        "\n",
        "    descriptors.append(des)\n",
        "    label_per_descriptor.append(label)"
      ]
    },
    {
      "cell_type": "markdown",
      "metadata": {
        "id": "t6upapRPwErX"
      },
      "source": [
        "### Clustering using K-Means to find the best number of visual words\n",
        "\n",
        "\n"
      ]
    },
    {
      "cell_type": "markdown",
      "metadata": {
        "id": "mjtJDMCZEfc3"
      },
      "source": [
        "Once the local features are computed, different numbers of visual words (clusters) will be tested. In this case, 2, 4, 8, 16, 32, 64, 128, 256, 512, 1024, 2048, and 4096 will be tested as the number of visual words."
      ]
    },
    {
      "cell_type": "code",
      "execution_count": null,
      "metadata": {
        "id": "FCK-vlRXNawA",
        "outputId": "c3526e57-99a9-44c9-b19a-551c8ad88bf9"
      },
      "outputs": [
        {
          "name": "stdout",
          "output_type": "stream",
          "text": [
            "VisualWords:  2\n",
            "Mean:  27.679175925733627\n",
            "Std:  1.486687697193187\n",
            "--------------------\n",
            "VisualWords:  4\n",
            "Mean:  40.95968931071006\n",
            "Std:  6.216535832087832\n",
            "--------------------\n",
            "VisualWords:  8\n",
            "Mean:  60.081687469280666\n",
            "Std:  1.428633343641613\n",
            "--------------------\n",
            "VisualWords:  16\n",
            "Mean:  64.21271970814037\n",
            "Std:  2.3344719943847765\n",
            "--------------------\n",
            "VisualWords:  32\n",
            "Mean:  68.11717305974953\n",
            "Std:  1.3421651780560984\n",
            "--------------------\n",
            "VisualWords:  64\n",
            "Mean:  72.87913715879905\n",
            "Std:  1.2754661666892022\n",
            "--------------------\n",
            "VisualWords:  128\n",
            "Mean:  75.18597744595128\n",
            "Std:  1.4528253409384235\n",
            "--------------------\n",
            "VisualWords:  256\n",
            "Mean:  74.40572366098316\n",
            "Std:  1.3047507799190996\n",
            "--------------------\n",
            "VisualWords:  512\n",
            "Mean:  74.40530830096986\n",
            "Std:  2.1251726122479484\n",
            "--------------------\n",
            "VisualWords:  1024\n",
            "Mean:  73.10204703259883\n",
            "Std:  1.3358168851471575\n",
            "--------------------\n",
            "VisualWords:  2048\n",
            "Mean:  71.20447481187652\n",
            "Std:  1.3623702379448088\n",
            "--------------------\n",
            "VisualWords:  4096\n",
            "Mean:  67.14945345544918\n",
            "Std:  2.18932611644128\n",
            "--------------------\n"
          ]
        }
      ],
      "source": [
        "a=1 #Initial \n",
        "b=13 #Final \n",
        "range_vis = [2**i for i in range(a,b)]\n",
        "accScores = []\n",
        "\n",
        "# Classifier\n",
        "knn = KNeighborsClassifier(n_neighbors=3,n_jobs=-1,metric='euclidean')\n",
        "\n",
        "# Partition for cross validation\n",
        "stf = StratifiedKFold(n_splits=numSplits, random_state = randomState, shuffle=True)\n",
        "\n",
        "for numVisualWords in range_vis:\n",
        "    \n",
        "  # Create model\n",
        "  visualBag = vwDictionary(numVisualWords, randomState)\n",
        "  model = Pipeline(steps = [(\"vw\", visualBag), (\"knn\", knn)])\n",
        "  \n",
        "  scores = cross_val_score(estimator = model, X = descriptors, y = label_per_descriptor, cv = stf, n_jobs = 2)\n",
        "\n",
        "  # Print values\n",
        "  print(\"VisualWords: \", numVisualWords)\n",
        "  print(\"Mean: \", 100*scores.mean())\n",
        "  print(\"Std: \", 100*scores.std())\n",
        "  print(\"--------------------\")\n",
        "  # Store values\n",
        "  accScores.append([score*100 for score in scores])"
      ]
    },
    {
      "cell_type": "markdown",
      "metadata": {
        "id": "02UCMs-fGfMK"
      },
      "source": [
        "Plot results\n"
      ]
    },
    {
      "cell_type": "code",
      "execution_count": null,
      "metadata": {
        "id": "n_M-j76Q8ptD",
        "outputId": "092d8f73-d7af-4b35-823c-da0004eeb9e9"
      },
      "outputs": [
        {
          "data": {
            "image/png": "[encoded data removed]",
            "text/plain": [
              "<Figure size 640x480 with 1 Axes>"
            ]
          },
          "metadata": {},
          "output_type": "display_data"
        }
      ],
      "source": [
        "import pandas as pd\n",
        "import matplotlib.pyplot as plt\n",
        "import seaborn as sns\n",
        "\n",
        "# Create the pandas DataFrame\n",
        "listData = []\n",
        "for i, step in enumerate(range_vis):\n",
        "  for j in range(len(accScores[0])):\n",
        "\n",
        "    listData.append([accScores[i][j], step])\n",
        "\n",
        "\n",
        "df = pd.DataFrame(listData, columns = [\"Accuracy\", \"Visual Word Number\"])\n",
        "\n",
        "sns.lineplot(data = df, x = \"Visual Word Number\", y = \"Accuracy\")\n",
        "plt.title(\"Dense SIFT: VisualWords\")\n",
        "plt.show()"
      ]
    },
    {
      "cell_type": "markdown",
      "source": [
        "The graph shows that with too small number of visual words (e.g. 2, 4, or 8), the results are not very good. This is because it is difficult for the classifier to distinguish between the 8 classes of the dataset with such a small number of clusters. On the other hand, it can also be seen that with a very large number of clusters such as 2048 or 4096, the results are also not optimal. This is because a high-dimensional, very large number of visual words results in sparse global descriptors for the images, making them difficult to classify. However, an intermediate number of visual words, such as 128, resulted in the best results."
      ],
      "metadata": {
        "id": "a22MITHcGoli"
      }
    },
    {
      "cell_type": "markdown",
      "metadata": {
        "id": "Yqo3XycANnNe"
      },
      "source": [
        "# 4.- Classifiers"
      ]
    },
    {
      "cell_type": "markdown",
      "source": [
        "Up to this point, the default 3NN classifier has been used. However, more powerful classifiers such as logistic regression should also be tested. In addition, the best hyperparameters for KNN and logistic regression should be determined."
      ],
      "metadata": {
        "id": "JK7ADGJ4Jddw"
      }
    },
    {
      "cell_type": "markdown",
      "source": [
        "## 4.1.- Best parameters for KNN"
      ],
      "metadata": {
        "id": "-yIWWgApHqXh"
      }
    },
    {
      "cell_type": "code",
      "execution_count": null,
      "metadata": {
        "id": "DdmYtd4sH9vo"
      },
      "outputs": [],
      "source": [
        "bestVisualWordNumber = 128"
      ]
    },
    {
      "cell_type": "markdown",
      "metadata": {
        "id": "-Y8iEjayPJHj"
      },
      "source": [
        "The most important parameter of KNN is the number of neighbors (K) used to classify. Additionally, the distance metric is also an important parameter. This distance can also be used as weights in the classification step."
      ]
    },
    {
      "cell_type": "markdown",
      "metadata": {
        "id": "zWmyBN8rPxvN"
      },
      "source": [
        "### Parameter options:"
      ]
    },
    {
      "cell_type": "markdown",
      "source": [
        "In this study, a range from 1 to 60 (with jumps of 2) values of k will be tested.\n",
        "\n",
        "For the distance metric, the most common distances will be used: Manhattan, Euclidean, Cosine, Chebyshev, Canberra, and Correlation.\n",
        "\n",
        "Finally, a parameter will be set to indicate if the distances will be used as weights or not. For that purpose, the *weights* parameter will have one of these values:\n",
        "\n",
        "* 'uniform': uniform weights. All points in each neighborhood are weighted equally.\n",
        "* 'distance': weight points by the inverse of their distance. In this case, closer neighbors of a query point will have a greater influence than neighbors that are further away."
      ],
      "metadata": {
        "id": "gxTwLt13Ktqs"
      }
    },
    {
      "cell_type": "code",
      "execution_count": null,
      "metadata": {
        "id": "EU0wPNvcPsI-"
      },
      "outputs": [],
      "source": [
        "k_range = range(1,61,2)\n",
        "weight_options = ['uniform', 'distance']\n",
        "distance_formulas = [\"manhattan\", \"euclidean\", \"cosine\", \"chebyshev\", \"canberra\", \"correlation\"]\n",
        "param_grid = dict(knn__n_neighbors=k_range, knn__weights=weight_options, knn__metric = distance_formulas)"
      ]
    },
    {
      "cell_type": "markdown",
      "metadata": {
        "id": "zdQqqQ-aP08t"
      },
      "source": [
        "### Grid search (360 candidates):"
      ]
    },
    {
      "cell_type": "markdown",
      "source": [
        "In order to find the best parameters, a grid search is defined. This search will test the 360 combinations of different parameters."
      ],
      "metadata": {
        "id": "-ShXS2R8MM5A"
      }
    },
    {
      "cell_type": "code",
      "execution_count": null,
      "metadata": {
        "colab": {
          "base_uri": "https://localhost:8080/"
        },
        "id": "Xn856J-yP4Hl",
        "outputId": "dae81e6e-247d-4997-c588-af7b8d73d00c"
      },
      "outputs": [
        {
          "name": "stdout",
          "output_type": "stream",
          "text": [
            "Fitting 5 folds for each of 360 candidates, totalling 1800 fits\n"
          ]
        }
      ],
      "source": [
        "from sklearn.model_selection import GridSearchCV\n",
        "\n",
        "# Create model\n",
        "visualBag = vwDictionary(bestVisualWordNumber, randomState)\n",
        "knn = KNeighborsClassifier(n_jobs = -1)\n",
        "model = Pipeline(steps = [(\"vw\", visualBag), (\"knn\", knn)])\n",
        "\n",
        "# Partition for cross validation\n",
        "stf = StratifiedKFold(n_splits=numSplits, random_state = randomState, shuffle=True)\n",
        "\n",
        "rs = GridSearchCV(estimator = model, param_grid = param_grid, n_jobs=-1, cv= stf, verbose=5)\n",
        "\n",
        "results = rs.fit(X = descriptors, y = label_per_descriptor)"
      ]
    },
    {
      "cell_type": "markdown",
      "metadata": {
        "id": "dd8Ds-wiQEIY"
      },
      "source": [
        "### Results:"
      ]
    },
    {
      "cell_type": "code",
      "execution_count": null,
      "metadata": {
        "colab": {
          "base_uri": "https://localhost:8080/"
        },
        "id": "kzursYL-QDhP",
        "outputId": "37491e88-1a1d-41fa-87d4-d6fb684d5640"
      },
      "outputs": [
        {
          "name": "stdout",
          "output_type": "stream",
          "text": [
            "0.8098924909832264\n",
            "{'knn__metric': 'manhattan', 'knn__n_neighbors': 9, 'knn__weights': 'distance'}\n"
          ]
        }
      ],
      "source": [
        "print(results.best_score_)\n",
        "print(results.best_params_)"
      ]
    },
    {
      "cell_type": "markdown",
      "source": [
        "The best results were obtained using the manhattan distance, and with k = 9. In addition, using the distance as a weight improved the results. Therefore, with the best hyperparameters for the KNN classifier, the mean accuracy obtained was **80.99%**."
      ],
      "metadata": {
        "id": "2uFfJQefMPoG"
      }
    },
    {
      "cell_type": "code",
      "execution_count": null,
      "metadata": {
        "id": "pLEhSULpIWkj"
      },
      "outputs": [],
      "source": [
        "bestKNN = KNeighborsClassifier(n_neighbors = 9, weights = 'distance', metric = \"manhattan\")"
      ]
    },
    {
      "cell_type": "markdown",
      "metadata": {
        "id": "CU1sl8_GQG_N"
      },
      "source": [
        "## 4.2- Best parameters for logistic regression:"
      ]
    },
    {
      "cell_type": "code",
      "source": [
        "bestVisualWordNumber = 128"
      ],
      "metadata": {
        "id": "Sl9deathNFVm"
      },
      "execution_count": null,
      "outputs": []
    },
    {
      "cell_type": "markdown",
      "source": [
        "The most important parameters of logistic regression are C and the solver. C is the inverse of the regularization strength; the smaller this value is, the stronger the regularization. The solver is the algorithm used to solve the optimization problem."
      ],
      "metadata": {
        "id": "etdQMvkCNGCN"
      }
    },
    {
      "cell_type": "markdown",
      "source": [
        "### Parameter options"
      ],
      "metadata": {
        "id": "6PsL-MDzMyUz"
      }
    },
    {
      "cell_type": "markdown",
      "source": [
        "As for C, 20 different values from 0.0001 to 10000 will be tested. For the solver, the 5 most popular algorithms will be used."
      ],
      "metadata": {
        "id": "XX3bAQ07OEe9"
      }
    },
    {
      "cell_type": "code",
      "execution_count": null,
      "metadata": {
        "id": "B0cJWN9Kh1hk"
      },
      "outputs": [],
      "source": [
        "classifier__C = np.logspace(-4, 4, 20)\n",
        "random_state = [ randomState ]\n",
        "solvers = ['lbfgs', 'liblinear', 'newton-cg', 'sag', 'saga']\n",
        "multiclass = [\"auto\"]\n",
        "max_iter = [10000]\n",
        "\n",
        "\n",
        "param_grid = dict(lr__C=classifier__C, lr__random_state=random_state, lr__solver = solvers, lr__multi_class=multiclass)"
      ]
    },
    {
      "cell_type": "markdown",
      "source": [
        "### Grid search (100 candidates)"
      ],
      "metadata": {
        "id": "IhAQZkIPM3Oe"
      }
    },
    {
      "cell_type": "markdown",
      "source": [
        "In order to find the best parameters, a grid search is defined. This search will test the 100 combinations of different parameters."
      ],
      "metadata": {
        "id": "bHIoe44dOrEQ"
      }
    },
    {
      "cell_type": "code",
      "execution_count": null,
      "metadata": {
        "colab": {
          "background_save": true
        },
        "id": "issT4kBUfyDM",
        "outputId": "a1887ec2-ea9f-42b4-c8f0-222ffb85a5cb"
      },
      "outputs": [
        {
          "name": "stdout",
          "output_type": "stream",
          "text": [
            "Fitting 5 folds for each of 100 candidates, totalling 500 fits\n"
          ]
        }
      ],
      "source": [
        "from sklearn.model_selection import GridSearchCV\n",
        "\n",
        "# Create model\n",
        "visualBag = vwDictionary(bestVisualWordNumber, randomState)\n",
        "lr = LogisticRegression(n_jobs=-1)\n",
        "model = Pipeline(steps = [(\"vw\", visualBag), (\"lr\", lr)])\n",
        "\n",
        "# Partition for cross validation\n",
        "stf = StratifiedKFold(n_splits=numSplits, random_state = randomState, shuffle=True)\n",
        "\n",
        "\n",
        "rs = GridSearchCV(estimator = model, param_grid = param_grid, n_jobs=-1, cv= stf, verbose=5)\n",
        "\n",
        "results = rs.fit(X = descriptors, y = label_per_descriptor)"
      ]
    },
    {
      "cell_type": "markdown",
      "source": [
        "### Results"
      ],
      "metadata": {
        "id": "ACanPpNkM6y3"
      }
    },
    {
      "cell_type": "code",
      "execution_count": null,
      "metadata": {
        "id": "jVqz7W0uImwy",
        "outputId": "e33c0a38-fe1a-43ae-926c-48c95feebf9f"
      },
      "outputs": [
        {
          "name": "stdout",
          "output_type": "stream",
          "text": [
            "0.8307380255169502\n",
            "{'lr__C': 0.00026366508987303583, 'lr__multi_class': 'auto', 'lr__random_state': 42, 'lr__solver': 'newton-cg'}\n"
          ]
        }
      ],
      "source": [
        "print(results.best_score_)\n",
        "print(results.best_params_)"
      ]
    },
    {
      "cell_type": "markdown",
      "source": [
        "The best results were obtained using a high regularization value (inverse value of *0.00026366508987303583*) and with the *Newton-CG* solver algorithm. Therefore, with the best hyperparameters of the logistic regression classifier the mean accuracy value obtained is **83.07%**."
      ],
      "metadata": {
        "id": "wIEFYRM2OxZl"
      }
    },
    {
      "cell_type": "code",
      "execution_count": null,
      "metadata": {
        "id": "9RjEE1NBIm86"
      },
      "outputs": [],
      "source": [
        "bestLR = LogisticRegression(C = 0.0018329807108324356, multi_class = \"auto\", random_state = randomState, solver = \"newton-cg\", n_jobs=-1)"
      ]
    },
    {
      "cell_type": "markdown",
      "metadata": {
        "id": "lgAJ9guMe06C"
      },
      "source": [
        "# 5.- Dimension reduction"
      ]
    },
    {
      "cell_type": "markdown",
      "source": [
        "Sometimes, the redundancy of the data can make it difficult to correctly classify the images. Therefore, some dimension reduction algorithms such as LDA or PCA will be tested. These methods will reduce the dimensions of the visual words of each image while retaining the most important data and removing the most redundant information."
      ],
      "metadata": {
        "id": "1uMMqeX8P-rR"
      }
    },
    {
      "cell_type": "markdown",
      "source": [
        "As the logistic regression was the best classifier, this is the one that will be used in this test."
      ],
      "metadata": {
        "id": "-SuwMD_1P1Ir"
      }
    },
    {
      "cell_type": "code",
      "source": [
        "bestLR = LogisticRegression(C = 0.0018329807108324356, multi_class = \"auto\", random_state = randomState, solver = \"newton-cg\", n_jobs=-1)"
      ],
      "metadata": {
        "id": "xCUPt5ok6kKL"
      },
      "execution_count": null,
      "outputs": []
    },
    {
      "cell_type": "markdown",
      "metadata": {
        "id": "hANGxCNgfA7A"
      },
      "source": [
        "### LDA"
      ]
    },
    {
      "cell_type": "markdown",
      "source": [
        "Linear Discriminant Analysis is a classifier with a linear decision boundary, generated by fitting class-conditional densities to the data and using Bayes' rule. The only parameter that needs to be set is the number of components, which must be in the range of 1 and the number of classes - 1."
      ],
      "metadata": {
        "id": "Pwa_CM59RXxP"
      }
    },
    {
      "cell_type": "code",
      "execution_count": null,
      "metadata": {
        "id": "SOU4_1EbIrM7"
      },
      "outputs": [],
      "source": [
        "num_classes = 8\n",
        "n_components = range(1,num_classes)"
      ]
    },
    {
      "cell_type": "markdown",
      "source": [
        "Different number of components were tested."
      ],
      "metadata": {
        "id": "tO8GBRXZRrko"
      }
    },
    {
      "cell_type": "code",
      "execution_count": null,
      "metadata": {
        "colab": {
          "base_uri": "https://localhost:8080/"
        },
        "id": "LZ4tn8QhfAUf",
        "outputId": "eb500413-4b54-4fc7-f25c-12ff678fbcf3"
      },
      "outputs": [
        {
          "name": "stdout",
          "output_type": "stream",
          "text": [
            "Component number:  1\n",
            "Mean:  31.881857766886114\n",
            "Std:  1.9349481391054346\n",
            "--------------------\n",
            "Component number:  2\n",
            "Mean:  52.82770174381979\n",
            "Std:  1.4936410087468306\n",
            "--------------------\n",
            "Component number:  3\n",
            "Mean:  67.41106103715396\n",
            "Std:  1.1275443723221525\n",
            "--------------------\n",
            "Component number:  4\n",
            "Mean:  77.60420344333451\n",
            "Std:  1.0875457772240427\n",
            "--------------------\n",
            "Component number:  5\n",
            "Mean:  79.20444712120897\n",
            "Std:  1.1140961345491722\n",
            "--------------------\n",
            "Component number:  6\n",
            "Mean:  78.94443175288849\n",
            "Std:  1.358707571148468\n",
            "--------------------\n",
            "Component number:  7\n",
            "Mean:  80.95290509715963\n",
            "Std:  1.7444033143704147\n",
            "--------------------\n",
            "Best LDA component number:  7  Mean accuracy:  80.95290509715963\n"
          ]
        }
      ],
      "source": [
        "accScores = []\n",
        "maxScore = -1\n",
        "bestValue = None\n",
        "\n",
        "# Create model\n",
        "visualBag = vwDictionary(bestVisualWordNumber, randomState)\n",
        "\n",
        "\n",
        "# Partition for cross validation\n",
        "stf = StratifiedKFold(n_splits=numSplits, random_state = randomState, shuffle=True)\n",
        "\n",
        "for n in n_components:\n",
        "    \n",
        "    model = Pipeline(steps = [(\"vw\", visualBag), ('lda', LinearDiscriminantAnalysis(n_components=n)), (\"lr\", bestLR)])\n",
        "    \n",
        "    scores = cross_val_score(estimator = model, X = descriptors, y = label_per_descriptor, cv = stf, n_jobs = -1)\n",
        "\n",
        "    # Print values\n",
        "    print(\"Component number: \", n)\n",
        "    print(\"Mean: \", 100*scores.mean())\n",
        "    print(\"Std: \", 100*scores.std())\n",
        "    print(\"--------------------\")\n",
        "    \n",
        "    \n",
        "    accScores.append([score*100 for score in scores])\n",
        "    \n",
        "    if 100*scores.mean()>maxScore:\n",
        "        maxScore = 100*scores.mean()\n",
        "        bestValue = n\n",
        "\n",
        "print(\"Best LDA component number: \", bestValue, \" Mean accuracy: \", maxScore)"
      ]
    },
    {
      "cell_type": "markdown",
      "source": [
        "Plot results"
      ],
      "metadata": {
        "id": "bDdQ3M4gRL-C"
      }
    },
    {
      "cell_type": "code",
      "execution_count": null,
      "metadata": {
        "id": "ViDJMYz_ZIcb",
        "outputId": "589dc1cc-36b8-4c4d-ca5e-ea27ee2ce1c1"
      },
      "outputs": [
        {
          "data": {
            "image/png": "[encoded data removed]",
            "text/plain": [
              "<Figure size 640x480 with 1 Axes>"
            ]
          },
          "metadata": {},
          "output_type": "display_data"
        }
      ],
      "source": [
        "import pandas as pd\n",
        "import matplotlib.pyplot as plt\n",
        "import seaborn as sns\n",
        "\n",
        "# Create the pandas DataFrame\n",
        "listData = []\n",
        "for i, step in enumerate(n_components):\n",
        "  for j in range(len(accScores[0])):\n",
        "\n",
        "    listData.append([accScores[i][j], step])\n",
        "\n",
        "\n",
        "df = pd.DataFrame(listData, columns = [\"Accuracy\", \"Num. Components\"])\n",
        "\n",
        "sns.lineplot(data = df, x = \"Num. Components\", y = \"Accuracy\")\n",
        "plt.title(\"LDA: number of components\")\n",
        "plt.show()"
      ]
    },
    {
      "cell_type": "markdown",
      "source": [
        "It can be seen that with only 4 components very good results were obtained. This can be used for speed up purposes not affecting too much to the accuracy. However, in this test the speed is not the aim and it was not improved the mean accuracy values using any component number. This can be caused by the fact that the all 128 values of the visual words are quite important."
      ],
      "metadata": {
        "id": "LyBsHG8XSDZa"
      }
    },
    {
      "cell_type": "markdown",
      "metadata": {
        "id": "CXXoISgYfCTl"
      },
      "source": [
        "### PCA"
      ]
    },
    {
      "cell_type": "markdown",
      "source": [
        "Principal component analysis is a linear dimensionality reduction using Singular Value Decomposition of the data to project it to a lower dimensional space. The input data is centered but not scaled for each feature before applying the SVD. The only parameter of this method is the number of components that have to be in the range of 1 to the number of dimensions of the data (128 in this case)."
      ],
      "metadata": {
        "id": "sGI8uuJqTCJu"
      }
    },
    {
      "cell_type": "code",
      "execution_count": null,
      "metadata": {
        "id": "uIe3RHolI0gO"
      },
      "outputs": [],
      "source": [
        "n_components = range(1, bestVisualWordNumber)"
      ]
    },
    {
      "cell_type": "markdown",
      "source": [
        "Different number of components were tested."
      ],
      "metadata": {
        "id": "9p1B5dmqTUf2"
      }
    },
    {
      "cell_type": "code",
      "execution_count": null,
      "metadata": {
        "colab": {
          "base_uri": "https://localhost:8080/"
        },
        "id": "gkkoyf9FfDEA",
        "outputId": "216f0975-86b3-42f5-de12-875020cd837a"
      },
      "outputs": [
        {
          "name": "stdout",
          "output_type": "stream",
          "text": [
            "Component number:  1\n",
            "Mean:  34.59748153378607\n",
            "Std:  1.2076229660243005\n",
            "--------------------\n",
            "Component number:  2\n",
            "Mean:  58.036385537164335\n",
            "Std:  0.8994146537230102\n",
            "--------------------\n",
            "Component number:  3\n",
            "Mean:  65.55087121762789\n",
            "Std:  1.0851505602079792\n",
            "--------------------\n",
            "Component number:  4\n",
            "Mean:  69.30724872449862\n",
            "Std:  1.8558804819020933\n",
            "--------------------\n",
            "Component number:  5\n",
            "Mean:  70.57229687164683\n",
            "Std:  1.5303544606927952\n",
            "--------------------\n",
            "Component number:  6\n",
            "Mean:  72.65581192498598\n",
            "Std:  1.5783267872302447\n",
            "--------------------\n",
            "Component number:  7\n",
            "Mean:  72.95307124116495\n",
            "Std:  2.017486368851471\n",
            "--------------------\n",
            "Component number:  8\n",
            "Mean:  73.73470955951069\n",
            "Std:  1.639800631200752\n",
            "--------------------\n",
            "Component number:  9\n",
            "Mean:  74.55345337237718\n",
            "Std:  1.2110874342401\n",
            "--------------------\n",
            "Component number:  10\n",
            "Mean:  74.81436868739313\n",
            "Std:  1.0864634070126096\n",
            "--------------------\n",
            "Component number:  11\n",
            "Mean:  75.14921808477497\n",
            "Std:  1.295250022149565\n",
            "--------------------\n",
            "Component number:  12\n",
            "Mean:  75.70676967594997\n",
            "Std:  1.573386078716893\n",
            "--------------------\n",
            "Component number:  13\n",
            "Mean:  76.78539040379917\n",
            "Std:  1.4992838367877217\n",
            "--------------------\n",
            "Component number:  14\n",
            "Mean:  77.12003212117436\n",
            "Std:  1.1982258840312479\n",
            "--------------------\n",
            "Component number:  15\n",
            "Mean:  77.64082435117304\n",
            "Std:  1.154031680192919\n",
            "--------------------\n",
            "Component number:  16\n",
            "Mean:  77.90194734619564\n",
            "Std:  1.3258210151107914\n",
            "--------------------\n",
            "Component number:  17\n",
            "Mean:  78.34832090714627\n",
            "Std:  1.5364590842226427\n",
            "--------------------\n",
            "Component number:  18\n",
            "Mean:  78.60916699549335\n",
            "Std:  1.4041712606029613\n",
            "--------------------\n",
            "Component number:  19\n",
            "Mean:  78.49715824524239\n",
            "Std:  1.3225488308163442\n",
            "--------------------\n",
            "Component number:  20\n",
            "Mean:  79.24106802904751\n",
            "Std:  1.430117550302576\n",
            "--------------------\n",
            "Component number:  21\n",
            "Mean:  79.20437789454009\n",
            "Std:  1.3618218924285812\n",
            "--------------------\n",
            "Component number:  22\n",
            "Mean:  79.12954386547872\n",
            "Std:  1.183446436616078\n",
            "--------------------\n",
            "Component number:  23\n",
            "Mean:  79.05533287643732\n",
            "Std:  1.1389907947122238\n",
            "--------------------\n",
            "Component number:  24\n",
            "Mean:  79.53874270523977\n",
            "Std:  1.5202235499253183\n",
            "--------------------\n",
            "Component number:  25\n",
            "Mean:  79.12975154548538\n",
            "Std:  1.7596672426481188\n",
            "--------------------\n",
            "Component number:  26\n",
            "Mean:  79.12982077215428\n",
            "Std:  1.5716372456659629\n",
            "--------------------\n",
            "Component number:  27\n",
            "Mean:  79.72489321786324\n",
            "Std:  1.3018223162315445\n",
            "--------------------\n",
            "Component number:  28\n",
            "Mean:  79.94863381168962\n",
            "Std:  1.9558623096170162\n",
            "--------------------\n",
            "Component number:  29\n",
            "Mean:  79.91097450381785\n",
            "Std:  1.74670015006077\n",
            "--------------------\n",
            "Component number:  30\n",
            "Mean:  80.24561622119306\n",
            "Std:  1.327322633427409\n",
            "--------------------\n",
            "Component number:  31\n",
            "Mean:  80.32045025025441\n",
            "Std:  1.1937211929297842\n",
            "--------------------\n",
            "Component number:  32\n",
            "Mean:  80.20885686001677\n",
            "Std:  1.6438795799299701\n",
            "--------------------\n",
            "Component number:  33\n",
            "Mean:  79.7997964735935\n",
            "Std:  1.5282057490098662\n",
            "--------------------\n",
            "Component number:  34\n",
            "Mean:  79.91132063716225\n",
            "Std:  1.241641196195758\n",
            "--------------------\n",
            "Component number:  35\n",
            "Mean:  80.06015797525838\n",
            "Std:  1.5242571494022086\n",
            "--------------------\n",
            "Component number:  36\n",
            "Mean:  80.32031179691664\n",
            "Std:  1.0618348668012239\n",
            "--------------------\n",
            "Component number:  37\n",
            "Mean:  81.10188088859353\n",
            "Std:  1.2718740346815476\n",
            "--------------------\n",
            "Component number:  38\n",
            "Mean:  80.80413698573238\n",
            "Std:  1.7011592783222858\n",
            "--------------------\n",
            "Component number:  39\n",
            "Mean:  80.65571500764955\n",
            "Std:  1.3280531449154975\n",
            "--------------------\n",
            "Component number:  40\n",
            "Mean:  80.76703149121167\n",
            "Std:  1.2611599969252727\n",
            "--------------------\n",
            "Component number:  41\n",
            "Mean:  80.65543810097402\n",
            "Std:  1.417597444813498\n",
            "--------------------\n",
            "Component number:  42\n",
            "Mean:  80.80406775906349\n",
            "Std:  1.268229671834757\n",
            "--------------------\n",
            "Component number:  43\n",
            "Mean:  80.84158861359751\n",
            "Std:  1.3867413565557904\n",
            "--------------------\n",
            "Component number:  44\n",
            "Mean:  81.10181166192464\n",
            "Std:  1.1767213646202048\n",
            "--------------------\n",
            "Component number:  45\n",
            "Mean:  81.02725453953882\n",
            "Std:  1.2100123017955324\n",
            "--------------------\n",
            "Component number:  46\n",
            "Mean:  81.1391940631209\n",
            "Std:  1.3233895731561038\n",
            "--------------------\n",
            "Component number:  47\n",
            "Mean:  81.2876852678726\n",
            "Std:  1.2071956047778931\n",
            "--------------------\n",
            "Component number:  48\n",
            "Mean:  81.65970938644402\n",
            "Std:  1.0679418151143742\n",
            "--------------------\n",
            "Component number:  49\n",
            "Mean:  81.10132707524247\n",
            "Std:  1.4133520165750888\n",
            "--------------------\n",
            "Component number:  50\n",
            "Mean:  81.32472153572444\n",
            "Std:  1.0833524471460132\n",
            "--------------------\n",
            "Component number:  51\n",
            "Mean:  81.7341280554921\n",
            "Std:  1.3099119127096108\n",
            "--------------------\n",
            "Component number:  52\n",
            "Mean:  81.58549839740262\n",
            "Std:  1.3626506285296518\n",
            "--------------------\n",
            "Component number:  53\n",
            "Mean:  81.54790831619974\n",
            "Std:  1.707314577510419\n",
            "--------------------\n",
            "Component number:  54\n",
            "Mean:  81.62198085190339\n",
            "Std:  1.6149955059195173\n",
            "--------------------\n",
            "Component number:  55\n",
            "Mean:  81.58508303738931\n",
            "Std:  1.7413936482607015\n",
            "--------------------\n",
            "Component number:  56\n",
            "Mean:  81.5476314095242\n",
            "Std:  1.5117830678462298\n",
            "--------------------\n",
            "Component number:  57\n",
            "Mean:  81.80826981786463\n",
            "Std:  1.6458546113167487\n",
            "--------------------\n",
            "Component number:  58\n",
            "Mean:  81.54818522287526\n",
            "Std:  1.967925604870463\n",
            "--------------------\n",
            "Component number:  59\n",
            "Mean:  81.92020934144668\n",
            "Std:  1.1637338377922053\n",
            "--------------------\n",
            "Component number:  60\n",
            "Mean:  82.03173350501547\n",
            "Std:  1.634783375243672\n",
            "--------------------\n",
            "Component number:  61\n",
            "Mean:  82.143396121922\n",
            "Std:  1.7705071216795991\n",
            "--------------------\n",
            "Component number:  62\n",
            "Mean:  82.06876977286728\n",
            "Std:  1.686409716934267\n",
            "--------------------\n",
            "Component number:  63\n",
            "Mean:  82.06939281288722\n",
            "Std:  1.7995789359310244\n",
            "--------------------\n",
            "Component number:  64\n",
            "Mean:  82.2180916976456\n",
            "Std:  1.343362265472821\n",
            "--------------------\n",
            "Component number:  65\n",
            "Mean:  82.21788401763895\n",
            "Std:  1.7987258586101385\n",
            "--------------------\n",
            "Component number:  66\n",
            "Mean:  82.47831474597274\n",
            "Std:  1.8582095450968168\n",
            "--------------------\n",
            "Component number:  67\n",
            "Mean:  82.06897745287394\n",
            "Std:  1.6511712872697932\n",
            "--------------------\n",
            "Component number:  68\n",
            "Mean:  82.25540487217295\n",
            "Std:  1.6804574659649711\n",
            "--------------------\n",
            "Component number:  69\n",
            "Mean:  82.36692903574172\n",
            "Std:  1.5917907746319084\n",
            "--------------------\n",
            "Component number:  70\n",
            "Mean:  82.25519719216632\n",
            "Std:  1.7705486834380488\n",
            "--------------------\n",
            "Component number:  71\n",
            "Mean:  82.25519719216632\n",
            "Std:  1.6283480278951792\n",
            "--------------------\n",
            "Component number:  72\n",
            "Mean:  82.40396530359358\n",
            "Std:  1.6412757469565635\n",
            "--------------------\n",
            "Component number:  73\n",
            "Mean:  82.59025426955479\n",
            "Std:  1.6721566581401361\n",
            "--------------------\n",
            "Component number:  74\n",
            "Mean:  82.2180916976456\n",
            "Std:  1.285577544498917\n",
            "--------------------\n",
            "Component number:  75\n",
            "Mean:  81.99504337050806\n",
            "Std:  1.4349236328822064\n",
            "--------------------\n",
            "Component number:  76\n",
            "Mean:  82.51576637383785\n",
            "Std:  1.5188090719059653\n",
            "--------------------\n",
            "Component number:  77\n",
            "Mean:  82.32982354122103\n",
            "Std:  1.7661929256476603\n",
            "--------------------\n",
            "Component number:  78\n",
            "Mean:  82.21823015098335\n",
            "Std:  1.6553273659664505\n",
            "--------------------\n",
            "Component number:  79\n",
            "Mean:  82.21836860432113\n",
            "Std:  1.7672060645133671\n",
            "--------------------\n",
            "Component number:  80\n",
            "Mean:  82.18098620312489\n",
            "Std:  1.6422749972537898\n",
            "--------------------\n",
            "Component number:  81\n",
            "Mean:  82.29285650003806\n",
            "Std:  2.1180253167921563\n",
            "--------------------\n",
            "Component number:  82\n",
            "Mean:  82.55314877503409\n",
            "Std:  1.6991767315864315\n",
            "--------------------\n",
            "Component number:  83\n",
            "Mean:  82.29271804670032\n",
            "Std:  1.7393440141200687\n",
            "--------------------\n",
            "Component number:  84\n",
            "Mean:  82.25547409884184\n",
            "Std:  1.679847106601396\n",
            "--------------------\n",
            "Component number:  85\n",
            "Mean:  82.1814015631382\n",
            "Std:  2.2220300433287434\n",
            "--------------------\n",
            "Component number:  86\n",
            "Mean:  82.21857628432778\n",
            "Std:  1.7138484122436415\n",
            "--------------------\n",
            "Component number:  87\n",
            "Mean:  82.44190151814085\n",
            "Std:  1.9613489215356765\n",
            "--------------------\n",
            "Component number:  88\n",
            "Mean:  82.2181609243145\n",
            "Std:  1.412798363842913\n",
            "--------------------\n",
            "Component number:  89\n",
            "Mean:  82.4787993326549\n",
            "Std:  1.682305743213456\n",
            "--------------------\n"
          ]
        },
        {
          "name": "stdout",
          "output_type": "stream",
          "text": [
            "Component number:  90\n",
            "Mean:  82.51604328051337\n",
            "Std:  1.7918516611558462\n",
            "--------------------\n",
            "Component number:  91\n",
            "Mean:  82.36720594241724\n",
            "Std:  1.6489410120002812\n",
            "--------------------\n",
            "Component number:  92\n",
            "Mean:  82.55335645504074\n",
            "Std:  1.7336696286804756\n",
            "--------------------\n",
            "Component number:  93\n",
            "Mean:  82.25561255217958\n",
            "Std:  1.5368448435858386\n",
            "--------------------\n",
            "Component number:  94\n",
            "Mean:  82.59039272289257\n",
            "Std:  1.6502359935287727\n",
            "--------------------\n",
            "Component number:  95\n",
            "Mean:  82.40438066360683\n",
            "Std:  1.4916954257725068\n",
            "--------------------\n",
            "Component number:  96\n",
            "Mean:  82.25533564550406\n",
            "Std:  1.2413172886039796\n",
            "--------------------\n",
            "Component number:  97\n",
            "Mean:  82.1438114819353\n",
            "Std:  1.3944233006418054\n",
            "--------------------\n",
            "Component number:  98\n",
            "Mean:  81.99511259717693\n",
            "Std:  1.4486026658915783\n",
            "--------------------\n",
            "Component number:  99\n",
            "Mean:  82.4041729836002\n",
            "Std:  1.3008655320513485\n",
            "--------------------\n",
            "Component number:  100\n",
            "Mean:  82.4787993326549\n",
            "Std:  1.5893776884786488\n",
            "--------------------\n",
            "Component number:  101\n",
            "Mean:  82.25554332551071\n",
            "Std:  1.4206502179082103\n",
            "--------------------\n",
            "Component number:  102\n",
            "Mean:  82.21836860432113\n",
            "Std:  1.5416740676517715\n",
            "--------------------\n",
            "Component number:  103\n",
            "Mean:  82.18098620312489\n",
            "Std:  1.2670321095799837\n",
            "--------------------\n",
            "Component number:  104\n",
            "Mean:  82.1814015631382\n",
            "Std:  1.7248885564215821\n",
            "--------------------\n",
            "Component number:  105\n",
            "Mean:  81.95793787598735\n",
            "Std:  1.59619747514953\n",
            "--------------------\n",
            "Component number:  106\n",
            "Mean:  82.10670598741459\n",
            "Std:  1.6368669264481304\n",
            "--------------------\n",
            "Component number:  107\n",
            "Mean:  82.14388070860417\n",
            "Std:  1.6771739616207382\n",
            "--------------------\n",
            "Component number:  108\n",
            "Mean:  81.92062470145999\n",
            "Std:  1.66666943531419\n",
            "--------------------\n",
            "Component number:  109\n",
            "Mean:  82.10656753407683\n",
            "Std:  1.6507596635231763\n",
            "--------------------\n",
            "Component number:  110\n",
            "Mean:  81.95773019598069\n",
            "Std:  1.6068536343899598\n",
            "--------------------\n",
            "Component number:  111\n",
            "Mean:  82.03214886502876\n",
            "Std:  1.6093029241606307\n",
            "--------------------\n",
            "Component number:  112\n",
            "Mean:  81.99518182384583\n",
            "Std:  1.7144015507003025\n",
            "--------------------\n",
            "Component number:  113\n",
            "Mean:  81.95786864931847\n",
            "Std:  1.6646539570030594\n",
            "--------------------\n",
            "Component number:  114\n",
            "Mean:  82.10670598741459\n",
            "Std:  1.7862414439945062\n",
            "--------------------\n",
            "Component number:  115\n",
            "Mean:  82.21829937765224\n",
            "Std:  1.896016344166394\n",
            "--------------------\n",
            "Component number:  116\n",
            "Mean:  81.95793787598735\n",
            "Std:  1.6723189523633428\n",
            "--------------------\n",
            "Component number:  117\n",
            "Mean:  81.84641371241858\n",
            "Std:  1.7466812023197318\n",
            "--------------------\n",
            "Component number:  118\n",
            "Mean:  81.69757637432244\n",
            "Std:  1.694617773340279\n",
            "--------------------\n",
            "Component number:  119\n",
            "Mean:  81.95793787598735\n",
            "Std:  1.4840511862325965\n",
            "--------------------\n",
            "Component number:  120\n",
            "Mean:  82.0323565450354\n",
            "Std:  1.5234715804758192\n",
            "--------------------\n",
            "Component number:  121\n",
            "Mean:  81.99504337050804\n",
            "Std:  1.4729085473017538\n",
            "--------------------\n",
            "Component number:  122\n",
            "Mean:  81.95779942264959\n",
            "Std:  1.5131092680822218\n",
            "--------------------\n",
            "Component number:  123\n",
            "Mean:  81.99504337050804\n",
            "Std:  1.5550933750228833\n",
            "--------------------\n",
            "Component number:  124\n",
            "Mean:  82.21829937765224\n",
            "Std:  1.6588798754209293\n",
            "--------------------\n",
            "Component number:  125\n",
            "Mean:  82.29285650003808\n",
            "Std:  1.7301776080526465\n",
            "--------------------\n",
            "Component number:  126\n",
            "Mean:  82.0323565450354\n",
            "Std:  1.7474288072125672\n",
            "--------------------\n",
            "Component number:  127\n",
            "Mean:  82.14401916194196\n",
            "Std:  1.7604273568211357\n",
            "--------------------\n",
            "Best PCA component number:  94  Mean accuracy:  82.59039272289257\n"
          ]
        }
      ],
      "source": [
        "accScores = []\n",
        "maxScore = -1\n",
        "bestValue = None\n",
        "\n",
        "# Create model\n",
        "visualBag = vwDictionary(bestVisualWordNumber, randomState)\n",
        "\n",
        "\n",
        "# Partition for cross validation\n",
        "stf = StratifiedKFold(n_splits=numSplits, random_state = randomState, shuffle=True)\n",
        "\n",
        "for n in n_components:\n",
        "    \n",
        "    model = Pipeline(steps = [(\"vw\", visualBag), ('pca', PCA(n_components=n)), (\"lr\", bestLR)])\n",
        "    \n",
        "    scores = cross_val_score(estimator = model, X = descriptors, y = label_per_descriptor, cv = stf, n_jobs = -1)\n",
        "\n",
        "    # Print values\n",
        "    print(\"Component number: \", n)\n",
        "    print(\"Mean: \", 100*scores.mean())\n",
        "    print(\"Std: \", 100*scores.std())\n",
        "    print(\"--------------------\")\n",
        "    \n",
        "    \n",
        "    accScores.append([score*100 for score in scores])\n",
        "    \n",
        "    if 100*scores.mean()>maxScore:\n",
        "        maxScore = 100*scores.mean()\n",
        "        bestValue = n\n",
        "\n",
        "print(\"Best PCA component number: \", bestValue, \" Mean accuracy: \", maxScore)"
      ]
    },
    {
      "cell_type": "markdown",
      "source": [
        "Plot results"
      ],
      "metadata": {
        "id": "tM0rkni0RQkF"
      }
    },
    {
      "cell_type": "code",
      "execution_count": null,
      "metadata": {
        "id": "6Qh60ejdZV9d",
        "outputId": "236ed863-7e17-4ec3-c113-c1bb0100071d"
      },
      "outputs": [
        {
          "data": {
            "image/png": "[encoded data removed]",
            "text/plain": [
              "<Figure size 640x480 with 1 Axes>"
            ]
          },
          "metadata": {},
          "output_type": "display_data"
        }
      ],
      "source": [
        "import pandas as pd\n",
        "import matplotlib.pyplot as plt\n",
        "import seaborn as sns\n",
        "\n",
        "# Create the pandas DataFrame\n",
        "listData = []\n",
        "for i, step in enumerate(n_components):\n",
        "  for j in range(len(accScores[0])):\n",
        "\n",
        "    listData.append([accScores[i][j], step])\n",
        "\n",
        "\n",
        "df = pd.DataFrame(listData, columns = [\"Accuracy\", \"Num. Components\"])\n",
        "\n",
        "sns.lineplot(data = df, x = \"Num. Components\", y = \"Accuracy\")\n",
        "plt.title(\"PCA: number of components\")\n",
        "plt.show()"
      ]
    },
    {
      "cell_type": "markdown",
      "source": [
        "It can be seen that with 94 components very good results were obtained (**82%**). As in the LDA case, it can be used for speed up purposes not affecting too much to the accuracy. However, it was not improved the accuracy value with any of the components reductions. "
      ],
      "metadata": {
        "id": "kE404h7PSjEw"
      }
    },
    {
      "cell_type": "markdown",
      "metadata": {
        "id": "Moxr9wRFcgEU"
      },
      "source": [
        "# 6.- Final test"
      ]
    },
    {
      "cell_type": "markdown",
      "source": [
        "After all the testing evaluated with 5 fold cross validation, these are the best options:\n",
        "\n",
        "\n",
        "*   Best local features obtained with **Dense SIFT with 10 step size**\n",
        "*   Visual words best number **128**\n",
        "*   Best classifier: logistic regression, with Newton-CG solver and high regularization\n",
        "*   No dimensional reduction\n",
        "\n",
        "Using this pipeline with the best parameters, a classifier will be trained with the original training images and the test set will be predicted.\n",
        "\n"
      ],
      "metadata": {
        "id": "E3b5qodVxAkq"
      }
    },
    {
      "cell_type": "code",
      "execution_count": null,
      "metadata": {
        "id": "2LKV12vscgEU",
        "outputId": "7c4535e9-0eda-4de8-b85b-8495913385f5"
      },
      "outputs": [
        {
          "name": "stdout",
          "output_type": "stream",
          "text": [
            "Test set accuracy:  82.77571251548946\n"
          ]
        }
      ],
      "source": [
        "bestStepSize = 10\n",
        "bestVisualWordNumber = 128\n",
        "\n",
        "# Detector\n",
        "detector = [denseDetector(bestStepSize), cv2.SIFT_create()]\n",
        "\n",
        "# Create model\n",
        "visualBag = vwDictionary(bestVisualWordNumber, randomState)\n",
        "bestLR = LogisticRegression(C = 0.0018329807108324356, multi_class = \"auto\", random_state = randomState, solver = \"newton-cg\", n_jobs=-1)\n",
        "\n",
        "\n",
        "# Generate descriptors\n",
        "\n",
        "# Training images\n",
        "train_descriptors = []\n",
        "train_label_per_descriptor = []\n",
        "\n",
        "for filename,labels in zip(train_images_filenames,train_labels):\n",
        "    \n",
        "    ima=cv2.imread(filename)\n",
        "    gray=cv2.cvtColor(ima,cv2.COLOR_BGR2GRAY)\n",
        "\n",
        "    kpt = detector[0].detect(gray,None)\n",
        "    kpt, des  = detector[1].compute(gray,kpt)\n",
        "    \n",
        "    train_descriptors.append(des)\n",
        "    train_label_per_descriptor.append(labels)\n",
        "\n",
        "\n",
        "# Test images\n",
        "test_descriptors = []\n",
        "test_label_per_descriptor = []\n",
        "\n",
        "for filename,labels in zip(test_images_filenames,test_labels):\n",
        "    \n",
        "    ima=cv2.imread(filename)\n",
        "    gray=cv2.cvtColor(ima,cv2.COLOR_BGR2GRAY)\n",
        "\n",
        "    kpt = detector[0].detect(gray,None)\n",
        "    kpt, des  = detector[1].compute(gray,kpt)\n",
        "    \n",
        "    test_descriptors.append(des)\n",
        "    test_label_per_descriptor.append(labels)\n",
        "\n",
        "\n",
        "# Clustering with training image local features\n",
        "visualBag = visualBag.fit(train_descriptors, train_label_per_descriptor)\n",
        "\n",
        "# Get visual words\n",
        "visualWords_train = visualBag.transform(train_descriptors)\n",
        "visualWords_test = visualBag.transform(test_descriptors)\n",
        "\n",
        "# Train model\n",
        "bestLR.fit(visualWords_train, train_label_per_descriptor)\n",
        "\n",
        "# Predict test images\n",
        "accuracy = 100*bestLR.score(visualWords_test, test_label_per_descriptor)\n",
        "print(\"Test set accuracy: \", accuracy)"
      ]
    },
    {
      "cell_type": "markdown",
      "source": [
        "The final test accuracy obtained is **82.78%**. This is a very good result taking into account that only classical methods were used, leaving aside the neural networks."
      ],
      "metadata": {
        "id": "QooPgurgx66H"
      }
    }
  ],
  "metadata": {
    "colab": {
      "collapsed_sections": [
        "3-hBz2dJ_13L",
        "5GUxLV9XNflJ",
        "6CG59Jr0JHXm",
        "Dhy1zFCqMG7_",
        "t6upapRPwErX",
        "Yqo3XycANnNe",
        "CU1sl8_GQG_N",
        "lgAJ9guMe06C"
      ],
      "provenance": [],
      "include_colab_link": true
    },
    "gpuClass": "standard",
    "kernelspec": {
      "display_name": "Python 3 (ipykernel)",
      "language": "python",
      "name": "python3"
    },
    "language_info": {
      "codemirror_mode": {
        "name": "ipython",
        "version": 3
      },
      "file_extension": ".py",
      "mimetype": "text/x-python",
      "name": "python",
      "nbconvert_exporter": "python",
      "pygments_lexer": "ipython3",
      "version": "3.8.13"
    },
    "vscode": {
      "interpreter": {
        "hash": "ad2bdc8ecc057115af97d19610ffacc2b4e99fae6737bb82f5d7fb13d2f2c186"
      }
    }
  },
  "nbformat": 4,
  "nbformat_minor": 0
}